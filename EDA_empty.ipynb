{
 "cells": [
  {
   "cell_type": "markdown",
   "metadata": {
    "collapsed": true,
    "pycharm": {
     "name": "#%% md\n"
    }
   },
   "source": [
    "DataSet: [https://www.kaggle.com/ruthgn/wine-quality-data-set-red-white-wine](https://www.kaggle.com/ruthgn/wine-quality-data-set-red-white-wine)\n",
    "\n",
    "Целевая переменная - \"quality\""
   ]
  },
  {
   "cell_type": "code",
   "execution_count": null,
   "outputs": [],
   "source": [
    "import matplotlib.pyplot as plt\n",
    "import pandas as pd\n",
    "import seaborn as sns\n",
    "from scipy import stats\n",
    "from scipy.special import boxcox1p\n",
    "from sklearn.model_selection import train_test_split"
   ],
   "metadata": {
    "collapsed": false,
    "pycharm": {
     "name": "#%%\n"
    }
   }
  },
  {
   "cell_type": "code",
   "execution_count": null,
   "outputs": [],
   "source": [
    "path = 'wine-quality-white-and-red.csv'\n",
    "data = pd.read_csv(path)\n",
    "data_copy = data.copy()"
   ],
   "metadata": {
    "collapsed": false,
    "pycharm": {
     "name": "#%%\n"
    }
   }
  },
  {
   "cell_type": "code",
   "execution_count": null,
   "outputs": [],
   "source": [
    "data.head(10)"
   ],
   "metadata": {
    "collapsed": false,
    "pycharm": {
     "name": "#%%\n"
    }
   }
  },
  {
   "cell_type": "markdown",
   "source": [
    "# Гистограммы\n",
    "\n",
    "Выбросов в районе нуля не видно. Вероятно, все данные определены.\n",
    "\n",
    "Целевая переменная - категориальная, параметры - непрерывные.\n",
    "\n",
    "На многих графиках присутствуют пустотные места, например, на графике `citric acid` больше 0.85. Вероятно, там есть выбросы."
   ],
   "metadata": {
    "collapsed": false,
    "pycharm": {
     "name": "#%% md\n"
    }
   }
  },
  {
   "cell_type": "code",
   "execution_count": null,
   "outputs": [],
   "source": [
    "data.hist(figsize=(20, 20), bins=30);"
   ],
   "metadata": {
    "collapsed": false,
    "pycharm": {
     "name": "#%%\n"
    }
   }
  },
  {
   "cell_type": "markdown",
   "source": [
    "# Пытаемся найти выбросы по гистограммам"
   ],
   "metadata": {
    "collapsed": false,
    "pycharm": {
     "name": "#%% md\n"
    }
   }
  },
  {
   "cell_type": "code",
   "execution_count": null,
   "outputs": [],
   "source": [
    "data = data_copy.copy()"
   ],
   "metadata": {
    "collapsed": false,
    "pycharm": {
     "name": "#%%\n"
    }
   }
  },
  {
   "cell_type": "markdown",
   "source": [
    "## Остаточный сахар\n",
    "Не смотря на то, что значения остаточного сахара меньше 1 редки, оставляем, т.к. их не мало, и на выбросы они не похожи.\n",
    "Значения больше 30 считаем выбросами."
   ],
   "metadata": {
    "collapsed": false,
    "pycharm": {
     "name": "#%% md\n"
    }
   }
  },
  {
   "cell_type": "code",
   "execution_count": null,
   "outputs": [],
   "source": [
    "_, ax = plt.subplots(1, 3, figsize=(20, 4))\n",
    "data[data['residual sugar'] < 1.5]['residual sugar'].hist(bins=8, ax=ax[0])\n",
    "data[data['residual sugar'] > 18]['residual sugar'].hist(bins=15, ax=ax[1])\n",
    "data = data.drop(data[data['residual sugar'] > 30].index)\n",
    "data['residual sugar'].hist(bins=30, ax=ax[2]);"
   ],
   "metadata": {
    "collapsed": false,
    "pycharm": {
     "name": "#%%\n"
    }
   }
  },
  {
   "cell_type": "markdown",
   "source": [
    "## Свободный диоксид серы\n",
    "\n",
    "Считаем выбросами значения больше 200."
   ],
   "metadata": {
    "collapsed": false,
    "pycharm": {
     "name": "#%% md\n"
    }
   }
  },
  {
   "cell_type": "code",
   "execution_count": null,
   "outputs": [],
   "source": [
    "_, ax = plt.subplots(1, 2, figsize=(15, 4))\n",
    "data[data['free sulfur dioxide'] > 70]['free sulfur dioxide'].hist(bins=30, ax=ax[0])\n",
    "data = data.drop(data[data['free sulfur dioxide'] > 200].index)\n",
    "data['free sulfur dioxide'].hist(bins=30, ax=ax[1]);"
   ],
   "metadata": {
    "collapsed": false,
    "pycharm": {
     "name": "#%%\n"
    }
   }
  },
  {
   "cell_type": "markdown",
   "source": [
    "## Лимонная кислота\n",
    "\n",
    "Считаем выбросами значения больше 0.9."
   ],
   "metadata": {
    "collapsed": false,
    "pycharm": {
     "name": "#%% md\n"
    }
   }
  },
  {
   "cell_type": "code",
   "execution_count": null,
   "outputs": [],
   "source": [
    "_, ax = plt.subplots(1, 2, figsize=(15, 4))\n",
    "data[data['citric acid'] > 0.65]['citric acid'].hist(bins=30, ax=ax[0])\n",
    "data = data.drop(data[data['citric acid'] > 0.9].index)\n",
    "data['citric acid'].hist(bins=30, ax=ax[1]);"
   ],
   "metadata": {
    "collapsed": false,
    "pycharm": {
     "name": "#%%\n"
    }
   }
  },
  {
   "cell_type": "markdown",
   "source": [
    "## Хлориды\n",
    "\n",
    "Думаю, можно посчитать значение около 0.6 выбросом, с остальными не понятно.\n"
   ],
   "metadata": {
    "collapsed": false,
    "pycharm": {
     "name": "#%% md\n"
    }
   }
  },
  {
   "cell_type": "code",
   "execution_count": null,
   "outputs": [],
   "source": [
    "_, ax = plt.subplots(1, 2, figsize=(15, 4))\n",
    "data[data['chlorides'] > 0.2]['chlorides'].hist(bins=30, ax=ax[0])\n",
    "data = data.drop(data[data['chlorides'] > 0.55].index)\n",
    "data['chlorides'].hist(bins=30, ax=ax[1]);"
   ],
   "metadata": {
    "collapsed": false,
    "pycharm": {
     "name": "#%%\n"
    }
   }
  },
  {
   "cell_type": "markdown",
   "source": [
    "## Сульфаты\n",
    "\n",
    "Считаем значения около 2 выбросами."
   ],
   "metadata": {
    "collapsed": false,
    "pycharm": {
     "name": "#%% md\n"
    }
   }
  },
  {
   "cell_type": "code",
   "execution_count": null,
   "outputs": [],
   "source": [
    "_, ax = plt.subplots(1, 2, figsize=(15, 4))\n",
    "data[data['sulphates'] > 1]['sulphates'].hist(bins=30, ax=ax[0])\n",
    "data = data.drop(data[data['sulphates'] > 1.8].index)\n",
    "data['sulphates'].hist(bins=30, ax=ax[1]);"
   ],
   "metadata": {
    "collapsed": false,
    "pycharm": {
     "name": "#%%\n"
    }
   }
  },
  {
   "cell_type": "markdown",
   "source": [
    "## СКО Хлоридов\n",
    "\n",
    "Точки `(quality=7, chlorides~0.35)` и `(quality=4, chlorides~0.3)` похожи на выбросы."
   ],
   "metadata": {
    "collapsed": false,
    "pycharm": {
     "name": "#%% md\n"
    }
   }
  },
  {
   "cell_type": "code",
   "execution_count": null,
   "outputs": [],
   "source": [
    "_, ax = plt.subplots(1, 2, figsize=(20, 8))\n",
    "sns.boxplot(data=data, x='quality', y='chlorides', ax=ax[0])\n",
    "data = data.drop(data[(data['quality'] == 7) & (data['chlorides'] > 0.3)].index)\n",
    "data = data.drop(data[(data['quality'] == 4) & (data['chlorides'] > 0.25)].index)\n",
    "sns.boxplot(data=data, x='quality', y='chlorides', ax=ax[1]);"
   ],
   "metadata": {
    "collapsed": false,
    "pycharm": {
     "name": "#%%\n"
    }
   }
  },
  {
   "cell_type": "markdown",
   "source": [
    "# Пропущенные значения\n",
    "\n",
    "Все значения определены."
   ],
   "metadata": {
    "collapsed": false,
    "pycharm": {
     "name": "#%% md\n"
    }
   }
  },
  {
   "cell_type": "code",
   "execution_count": null,
   "outputs": [],
   "source": [
    "nulls_counts = data.isnull().sum()\n",
    "nulls_counts"
   ],
   "metadata": {
    "collapsed": false,
    "pycharm": {
     "name": "#%%\n"
    }
   }
  },
  {
   "cell_type": "markdown",
   "source": [
    "# Корреляция"
   ],
   "metadata": {
    "collapsed": false,
    "pycharm": {
     "name": "#%% md\n"
    }
   }
  },
  {
   "cell_type": "code",
   "execution_count": null,
   "outputs": [],
   "source": [
    "corr_table = data.corr()\n",
    "_, ax = plt.subplots(figsize=(10, 10))\n",
    "sns.heatmap(corr_table[(corr_table <= -0.4) | (corr_table >= 0.4)],\n",
    "            square=True, vmin=-1, vmax=1, cmap='PRGn', ax=ax,\n",
    "            annot=True,\n",
    "            annot_kws={'size': 16});"
   ],
   "metadata": {
    "collapsed": false,
    "pycharm": {
     "name": "#%%\n"
    }
   }
  },
  {
   "cell_type": "markdown",
   "source": [
    "Посмотрим на 2 наиболее коррелированные пары величин:\n",
    "- Свободный диоксид серы и Общий диоксид серы коррелированы по понятной причине - Общий включает в себя Свободный.\n",
    "- Плотность и Алкоголь"
   ],
   "metadata": {
    "collapsed": false,
    "pycharm": {
     "name": "#%% md\n"
    }
   }
  },
  {
   "cell_type": "markdown",
   "source": [
    "Добавим поле для связанного диоксида серы"
   ],
   "metadata": {
    "collapsed": false,
    "pycharm": {
     "name": "#%% md\n"
    }
   }
  },
  {
   "cell_type": "code",
   "execution_count": null,
   "outputs": [],
   "source": [
    "data['bound sulfur dioxide'] = data['total sulfur dioxide'] - data['free sulfur dioxide']\n",
    "data = data[['type', 'fixed acidity', 'volatile acidity', 'citric acid',\n",
    "             'residual sugar', 'chlorides', 'free sulfur dioxide', 'bound sulfur dioxide',\n",
    "             'total sulfur dioxide', 'density', 'pH', 'sulphates', 'alcohol', 'quality']]"
   ],
   "metadata": {
    "collapsed": false,
    "pycharm": {
     "name": "#%%\n"
    }
   }
  },
  {
   "cell_type": "markdown",
   "source": [
    "Из графика зависимости алкоголя и плотности видно, что есть сильно выраженная нижняя граница алкоголя при низкой плотности.\n",
    "Еще при `(alcohol~15, density~0.997)` похоже есть выброс."
   ],
   "metadata": {
    "collapsed": false,
    "pycharm": {
     "name": "#%% md\n"
    }
   }
  },
  {
   "cell_type": "code",
   "execution_count": null,
   "outputs": [],
   "source": [
    "_, ax = plt.subplots(1, 2, figsize=(12, 4))\n",
    "sns.scatterplot(data=data, x='density', y='alcohol', ax=ax[0])\n",
    "data = data.drop(data[(data['alcohol'] > 14) & (data['density'] > 0.996)].index)\n",
    "sns.scatterplot(data=data, x='density', y='alcohol', ax=ax[1]);"
   ],
   "metadata": {
    "collapsed": false,
    "pycharm": {
     "name": "#%%\n"
    }
   }
  },
  {
   "cell_type": "markdown",
   "source": [
    "# Гистограммы после чистки"
   ],
   "metadata": {
    "collapsed": false,
    "pycharm": {
     "name": "#%% md\n"
    }
   }
  },
  {
   "cell_type": "code",
   "execution_count": null,
   "outputs": [],
   "source": [
    "data.hist(figsize=(20, 20), bins=30);"
   ],
   "metadata": {
    "collapsed": false,
    "pycharm": {
     "name": "#%%\n"
    }
   }
  },
  {
   "cell_type": "markdown",
   "source": [
    "# Смещение"
   ],
   "metadata": {
    "collapsed": false
   }
  },
  {
   "cell_type": "markdown",
   "source": [
    "Смещения всех значений"
   ],
   "metadata": {
    "collapsed": false,
    "pycharm": {
     "name": "#%% md\n"
    }
   }
  },
  {
   "cell_type": "code",
   "execution_count": null,
   "outputs": [],
   "source": [
    "numeric_index = data.dtypes[data.dtypes != 'object'].index\n",
    "\n",
    "all_skewness = data[numeric_index]\\\n",
    "    .apply(lambda x: stats.skew(x))\\\n",
    "    .sort_values(ascending=False)\\\n",
    "    .rename('skewness')\n",
    "all_skewness = pd.DataFrame(all_skewness)\n",
    "all_skewness"
   ],
   "metadata": {
    "collapsed": false,
    "pycharm": {
     "name": "#%%\n"
    }
   }
  },
  {
   "cell_type": "markdown",
   "source": [
    "Наиболее смещенные значения.\n",
    "Определим коэффициенты лямбда для преобразования."
   ],
   "metadata": {
    "collapsed": false,
    "pycharm": {
     "name": "#%% md\n"
    }
   }
  },
  {
   "cell_type": "code",
   "execution_count": null,
   "outputs": [],
   "source": [
    "skewness = all_skewness[abs(all_skewness['skewness']) > 0.75].copy()\n",
    "skewness['lambda'] = [-20, -1, -3, -2, 0.1, 0.5]\n",
    "skewness"
   ],
   "metadata": {
    "collapsed": false,
    "pycharm": {
     "name": "#%%\n"
    }
   }
  },
  {
   "cell_type": "markdown",
   "source": [
    "Преобразуем"
   ],
   "metadata": {
    "collapsed": false,
    "pycharm": {
     "name": "#%% md\n"
    }
   }
  },
  {
   "cell_type": "code",
   "execution_count": null,
   "outputs": [],
   "source": [
    "data_after_transform = data.copy()\n",
    "for i in skewness.index:\n",
    "    data_after_transform[i] = boxcox1p(data[i], skewness.at[i, 'lambda'])"
   ],
   "metadata": {
    "collapsed": false,
    "pycharm": {
     "name": "#%%\n"
    }
   }
  },
  {
   "cell_type": "markdown",
   "source": [
    "Смещенности после преобразования"
   ],
   "metadata": {
    "collapsed": false,
    "pycharm": {
     "name": "#%% md\n"
    }
   }
  },
  {
   "cell_type": "code",
   "execution_count": null,
   "outputs": [],
   "source": [
    "data_after_transform[numeric_index]\\\n",
    "    .apply(lambda x: x.skew())\\\n",
    "    .sort_values(ascending=False)"
   ],
   "metadata": {
    "collapsed": false,
    "pycharm": {
     "name": "#%%\n"
    }
   }
  },
  {
   "cell_type": "markdown",
   "source": [
    "# Гистограммы после преобразования"
   ],
   "metadata": {
    "collapsed": false,
    "pycharm": {
     "name": "#%% md\n"
    }
   }
  },
  {
   "cell_type": "code",
   "execution_count": null,
   "outputs": [],
   "source": [
    "data_after_transform.hist(figsize=(20, 20), bins=30);"
   ],
   "metadata": {
    "collapsed": false,
    "pycharm": {
     "name": "#%%\n"
    }
   }
  },
  {
   "cell_type": "markdown",
   "source": [
    "# Попарные зависимости"
   ],
   "metadata": {
    "collapsed": false,
    "pycharm": {
     "name": "#%% md\n"
    }
   }
  },
  {
   "cell_type": "code",
   "execution_count": null,
   "outputs": [],
   "source": [
    "pd.plotting.scatter_matrix(data_after_transform, figsize=(20, 20));"
   ],
   "metadata": {
    "collapsed": false,
    "pycharm": {
     "name": "#%%\n"
    }
   }
  },
  {
   "cell_type": "markdown",
   "source": [
    "# Разделение на тренировочные и тестовые данные"
   ],
   "metadata": {
    "collapsed": false,
    "pycharm": {
     "name": "#%% md\n"
    }
   }
  },
  {
   "cell_type": "code",
   "execution_count": null,
   "outputs": [],
   "source": [
    "train, test = train_test_split(data_after_transform, test_size=0.3)\n",
    "train.shape, test.shape"
   ],
   "metadata": {
    "collapsed": false,
    "pycharm": {
     "name": "#%%\n"
    }
   }
  }
 ],
 "metadata": {
  "kernelspec": {
   "display_name": "Python 3",
   "language": "python",
   "name": "python3"
  },
  "language_info": {
   "codemirror_mode": {
    "name": "ipython",
    "version": 2
   },
   "file_extension": ".py",
   "mimetype": "text/x-python",
   "name": "python",
   "nbconvert_exporter": "python",
   "pygments_lexer": "ipython2",
   "version": "2.7.6"
  }
 },
 "nbformat": 4,
 "nbformat_minor": 0
}